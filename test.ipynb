{
 "cells": [
  {
   "cell_type": "code",
   "execution_count": 7,
   "metadata": {},
   "outputs": [
    {
     "name": "stdout",
     "output_type": "stream",
     "text": [
      "Noah 390\n",
      "Thomas 620\n",
      "Laurine 720\n",
      "Mattéo 750\n",
      "Lucas 504\n",
      "Mathieu 717\n"
     ]
    }
   ],
   "source": [
    "for people in ['Noah','Thomas','Laurine','Mattéo','Lucas','Mathieu']:print(people,sum(map(ord,people)))"
   ]
  }
 ],
 "metadata": {
  "kernelspec": {
   "display_name": ".venv",
   "language": "python",
   "name": "python3"
  },
  "language_info": {
   "codemirror_mode": {
    "name": "ipython",
    "version": 3
   },
   "file_extension": ".py",
   "mimetype": "text/x-python",
   "name": "python",
   "nbconvert_exporter": "python",
   "pygments_lexer": "ipython3",
   "version": "3.12.1"
  }
 },
 "nbformat": 4,
 "nbformat_minor": 2
}
